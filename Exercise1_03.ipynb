{
 "cells": [
  {
   "cell_type": "markdown",
   "metadata": {},
   "source": [
    "# Exercise 1.03: Teaching the Agent to Win\n",
    "\n",
    "In this exercise, we will see how the steps needed to win can be reduced. We will be making the agent that we developed in the previous section activity detect situations where it can win a game.\n",
    "\n",
    "The following steps will help you to complete this exercise:"
   ]
  },
  {
   "cell_type": "markdown",
   "metadata": {},
   "source": [
    "1.- Reuse the previous code from Steps 1–5 from Activity 1.01"
   ]
  },
  {
   "cell_type": "code",
   "execution_count": 1,
   "metadata": {},
   "outputs": [],
   "source": [
    "# steps Steps 1-5 from Exercise 1.02\n",
    "from random import choice\n",
    "combo_indices = [[1,2,3],[4,5,6],[7,8,9],[1,4,7],[2,5,8],[3,6,9],[1,5,9],[3,5,7]]\n",
    "\n",
    "emptyC = '#'\n",
    "AI = 'X'\n",
    "OP = 'O'\n",
    "\n",
    "def Tablero(tabla):\n",
    "    print(\" \")\n",
    "    print(' '.join(tabla[0:3:1]))\n",
    "    print(' '.join(tabla[3:6:1]))\n",
    "    print(' '.join(tabla[6:9:1]))\n",
    "    print(\" \")\n",
    "\n",
    "def movimientoPersona(tabla, fila, columna):\n",
    "    movimientoP = (3 * (fila - 1)) + (columna - 1) \n",
    "    if (tabla[movimientoP] == emptyC):\n",
    "        tabla = tabla[0:movimientoP] + OP + tabla[movimientoP+1:9] \n",
    "    return tabla\n",
    "\n",
    "def all_moves_from_board(board, sign):\n",
    "    contador = 0\n",
    "    opciones = []\n",
    "    posiciones = []\n",
    "    for v in board:\n",
    "        if (v == emptyC): \n",
    "            posiciones.append(contador)\n",
    "        contador+=1\n",
    "    \n",
    "    for a in posiciones:\n",
    "        opciones.append(board[0:a] + sign + board[a+1:9])\n",
    "    return (opciones)\n"
   ]
  },
  {
   "cell_type": "code",
   "execution_count": 14,
   "metadata": {},
   "outputs": [
    {
     "name": "stdout",
     "output_type": "stream",
     "text": [
      " \n",
      "# # #\n",
      "# # #\n",
      "# X #\n",
      " \n",
      "Elija la fila.1\n",
      "Elija la columna1\n",
      " \n",
      "O X #\n",
      "# # #\n",
      "# X #\n",
      " \n",
      "Elija la fila.1\n",
      "Elija la columna3\n",
      " \n",
      "O X O\n",
      "# X #\n",
      "# X #\n",
      " \n",
      " \n",
      "O X O\n",
      "# X #\n",
      "# X #\n",
      " \n",
      "El juego termino\n"
     ]
    }
   ],
   "source": [
    "# steps 2-5 of Acctivity\n",
    "def ai_move(board):\n",
    "    movimientoAI = choice(all_moves_from_board(board,AI))       \n",
    "    return movimientoAI \n",
    "\n",
    "def game_won_by(tablero):\n",
    "    for item in combo_indices:\n",
    "        if (tablero[item[0]-1] == tablero[item[1]-1] == tablero[item[2]-1] == OP):\n",
    "            #print('EL JUGADOR A GANADO')\n",
    "            return OP\n",
    "        elif (tablero[item[0]-1] == tablero[item[1]-1] == tablero[item[2]-1] == AI):\n",
    "            #print('LA MAQUINA A GANADO')\n",
    "            return AI\n",
    "    return emptyC\n",
    "\n",
    "def game_loop():\n",
    "    board = emptyC * 9\n",
    "    empty_cell_count = 9\n",
    "    winner = \"#\"\n",
    "    while (empty_cell_count >= 0 and (winner ==\"#\")): \n",
    "        if (empty_cell_count % 2 == 1):\n",
    "            board = ai_move(board)\n",
    "            Tablero(board)\n",
    "        else:\n",
    "            fila = int(input('Elija la fila.'))\n",
    "            columna = int(input('Elija la columna'))\n",
    "            board = movimientoPersona(board,fila,columna)    \n",
    "        winner = game_won_by(board)\n",
    "        if(winner != emptyC):\n",
    "            Tablero(board)\n",
    "            break     \n",
    "        empty_cell_count-=1\n",
    "    print(\"El juego termino\")\n",
    "    \n",
    "game_loop()"
   ]
  },
  {
   "cell_type": "markdown",
   "metadata": {},
   "source": [
    "2.- Re-define the function, `ai_move`.  `ai_move` will return a move that consider its own previous moves. If the game can be won in that move, ai_move will select that move:"
   ]
  },
  {
   "cell_type": "code",
   "execution_count": 15,
   "metadata": {},
   "outputs": [],
   "source": [
    "def ai_move(board):\n",
    "    tableros = all_moves_from_board(board, AI)\n",
    "    for tablero in tableros:\n",
    "        if game_won_by(tablero) == AI:\n",
    "            return tablero\n",
    "    return choice(tableros)"
   ]
  },
  {
   "cell_type": "markdown",
   "metadata": {},
   "source": [
    "3.- Test the code snippet with a game loop."
   ]
  },
  {
   "cell_type": "code",
   "execution_count": 26,
   "metadata": {},
   "outputs": [
    {
     "name": "stdout",
     "output_type": "stream",
     "text": [
      " \n",
      "X # #\n",
      "# # #\n",
      "# # #\n",
      " \n",
      "Elija la fila.1\n",
      "Elija la columna2\n",
      " \n",
      "X O X\n",
      "# # #\n",
      "# # #\n",
      " \n",
      "Elija la fila.2\n",
      "Elija la columna2\n",
      " \n",
      "X O X\n",
      "# O X\n",
      "# # #\n",
      " \n",
      "Elija la fila.2\n",
      "Elija la columna1\n",
      " \n",
      "X O X\n",
      "O O X\n",
      "# # X\n",
      " \n",
      " \n",
      "X O X\n",
      "O O X\n",
      "# # X\n",
      " \n",
      "El juego termino\n"
     ]
    }
   ],
   "source": [
    "game_loop()"
   ]
  },
  {
   "cell_type": "markdown",
   "metadata": {},
   "source": [
    "4.- Count all the possible moves. To do this, we must change the `all_moves_from_board` function to include this improvement. We must do this so that, if the game is won by `AI_SIGN`, it will return that value"
   ]
  },
  {
   "cell_type": "code",
   "execution_count": 24,
   "metadata": {},
   "outputs": [],
   "source": [
    "def Partidas(tableros, signo):\n",
    "    jugadas = []\n",
    "    for tablero in tableros:\n",
    "        jugadas.extend(all_moves_from_board(tablero, signo))\n",
    "    return jugadas\n",
    "\n",
    "def filter_wins(tableros, AI_wins, OP_wins):\n",
    "    for tab in tableros:\n",
    "        win = game_won_by(tab)\n",
    "        if win == AI:\n",
    "            AI_wins.append(tab)\n",
    "            tableros.remove(tab)\n",
    "        elif win == OP:\n",
    "            OP_wins.append(tab)\n",
    "            tableros.remove(tab)\n",
    "            \n",
    "def count_possibilities(): \n",
    "    jugadas = [emptyC * 9]\n",
    "    AI_wins = []\n",
    "    OP_wins = []\n",
    "    for i in range(9):\n",
    "        print('step ' + str(i) + '. Moves: ' + str(len(jugadas)))\n",
    "        if (i % 2 == 0):\n",
    "            signo = AI\n",
    "        elif (i % 2 == 1):\n",
    "            signo = OP\n",
    "        jugadas = Partidas(jugadas, signo)\n",
    "        filter_wins(jugadas, AI_wins, OP_wins)\n",
    "    print('First player wins: ' + str(len(AI_wins)))\n",
    "    print('Second player wins: ' + str(len(OP_wins)))\n",
    "    print('Draw', str(len(jugadas)))\n",
    "    print('Total', str(len(AI_wins) + len(OP_wins) + len(jugadas)))\n",
    "\n",
    "def ai_move(board):\n",
    "    tableros = all_moves_from_board(board, AI)\n",
    "    for tablero in tableros:\n",
    "        if game_won_by(tablero) == AI:\n",
    "            return tablero\n",
    "    return choice(tableros)\n",
    "\n",
    "def all_moves_from_board(board, signo):\n",
    "    jugadas = []\n",
    "    contador = 0\n",
    "    for v in board:\n",
    "        if v == emptyC:\n",
    "            tablero = board[0:contador] + signo + board[contador+1:9]\n",
    "            jugadas.append(tablero)\n",
    "            if game_won_by(tablero) == AI:\n",
    "                return [tablero]\n",
    "        contador+=1\n",
    "    return jugadas"
   ]
  },
  {
   "cell_type": "markdown",
   "metadata": {},
   "source": [
    "5.- find all the possibilities using the `count_possibilities` function\n",
    "\n",
    "Output:\n",
    "\n",
    "```\n",
    "step 0. Moves: 1\n",
    " step 1. Moves: 9\n",
    " step 2. Moves: 72\n",
    " step 3. Moves: 504\n",
    " step 4. Moves: 3024\n",
    " step 5. Moves: 8525\n",
    " step 6. Moves: 28612\n",
    " step 7. Moves: 42187\n",
    " step 8. Moves: 55888\n",
    " First player wins: 32395\n",
    " Second player wins: 23445\n",
    " Draw 35544\n",
    " Total 91384\n",
    "```"
   ]
  },
  {
   "cell_type": "code",
   "execution_count": 25,
   "metadata": {},
   "outputs": [
    {
     "name": "stdout",
     "output_type": "stream",
     "text": [
      "step 0. Moves: 1\n",
      "step 1. Moves: 9\n",
      "step 2. Moves: 72\n",
      "step 3. Moves: 504\n",
      "step 4. Moves: 3024\n",
      "step 5. Moves: 8525\n",
      "step 6. Moves: 28612\n",
      "step 7. Moves: 42187\n",
      "step 8. Moves: 55888\n",
      "First player wins: 32395\n",
      "Second player wins: 23445\n",
      "Draw 35544\n",
      "Total 91384\n"
     ]
    }
   ],
   "source": [
    "count_possibilities()"
   ]
  },
  {
   "cell_type": "code",
   "execution_count": null,
   "metadata": {},
   "outputs": [],
   "source": []
  }
 ],
 "metadata": {
  "kernelspec": {
   "display_name": "Python 3",
   "language": "python",
   "name": "python3"
  },
  "language_info": {
   "codemirror_mode": {
    "name": "ipython",
    "version": 3
   },
   "file_extension": ".py",
   "mimetype": "text/x-python",
   "name": "python",
   "nbconvert_exporter": "python",
   "pygments_lexer": "ipython3",
   "version": "3.8.5"
  }
 },
 "nbformat": 4,
 "nbformat_minor": 4
}
